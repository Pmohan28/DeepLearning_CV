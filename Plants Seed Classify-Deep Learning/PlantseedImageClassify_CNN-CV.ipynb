{
 "cells": [
  {
   "cell_type": "code",
   "execution_count": null,
   "metadata": {},
   "outputs": [],
   "source": [
    "#Using Google Colab for tensorflow. Refer to Readme for understanding the Business problem."
   ]
  },
  {
   "cell_type": "code",
   "execution_count": 8,
   "metadata": {
    "colab": {
     "base_uri": "https://localhost:8080/",
     "height": 121
    },
    "colab_type": "code",
    "executionInfo": {
     "elapsed": 75829,
     "status": "ok",
     "timestamp": 1566105497997,
     "user": {
      "displayName": "prateek mohan",
      "photoUrl": "https://lh3.googleusercontent.com/-5EaS3F_29qQ/AAAAAAAAAAI/AAAAAAAADZM/WqFy740lLqE/s64/photo.jpg",
      "userId": "16785344440276487370"
     },
     "user_tz": -330
    },
    "id": "GMzmT4_raW_f",
    "outputId": "277c1609-9497-46a5-9015-6d70fb58aa74"
   },
   "outputs": [
    {
     "name": "stdout",
     "output_type": "stream",
     "text": [
      "Go to this URL in a browser: https://accounts.google.com/o/oauth2/auth?client_id=947318989803-6bn6qk8qdgf4n4g3pfee6491hc0brc4i.apps.googleusercontent.com&redirect_uri=urn%3Aietf%3Awg%3Aoauth%3A2.0%3Aoob&scope=email%20https%3A%2F%2Fwww.googleapis.com%2Fauth%2Fdocs.test%20https%3A%2F%2Fwww.googleapis.com%2Fauth%2Fdrive%20https%3A%2F%2Fwww.googleapis.com%2Fauth%2Fdrive.photos.readonly%20https%3A%2F%2Fwww.googleapis.com%2Fauth%2Fpeopleapi.readonly&response_type=code\n",
      "\n",
      "Enter your authorization code:\n",
      "··········\n",
      "Mounted at /content/gdrive\n"
     ]
    }
   ],
   "source": [
    "from google.colab import drive\n",
    "\n",
    "drive.mount('/content/gdrive')\n",
    "root_path = 'gdrive/My Drive/CNNProjects/'"
   ]
  },
  {
   "cell_type": "markdown",
   "metadata": {
    "colab_type": "text",
    "id": "VARkyDvpqo05"
   },
   "source": []
  },
  {
   "cell_type": "markdown",
   "metadata": {
    "colab_type": "text",
    "id": "QSJkVMWfTV3W"
   },
   "source": [
    "Directly Downloading the data from Kaggle API Token"
   ]
  },
  {
   "cell_type": "code",
   "execution_count": 0,
   "metadata": {
    "colab": {
     "base_uri": "https://localhost:8080/",
     "height": 91,
     "resources": {
      "http://localhost:8080/nbextensions/google.colab/files.js": {
       "data": "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",
       "headers": [
        [
         "content-type",
         "application/javascript"
        ]
       ],
       "ok": true,
       "status": 200,
       "status_text": ""
      }
     }
    },
    "colab_type": "code",
    "executionInfo": {
     "elapsed": 9347,
     "status": "ok",
     "timestamp": 1565717373917,
     "user": {
      "displayName": "prateek mohan",
      "photoUrl": "https://lh3.googleusercontent.com/-5EaS3F_29qQ/AAAAAAAAAAI/AAAAAAAADZM/WqFy740lLqE/s64/photo.jpg",
      "userId": "16785344440276487370"
     },
     "user_tz": -330
    },
    "id": "ClwdllbUapbC",
    "outputId": "113848b0-72b6-48d1-83d6-1bfce3b679e8"
   },
   "outputs": [
    {
     "data": {
      "text/html": [
       "\n",
       "     <input type=\"file\" id=\"files-86935e62-4d1c-46c4-a65d-55d0dc671d54\" name=\"files[]\" multiple disabled />\n",
       "     <output id=\"result-86935e62-4d1c-46c4-a65d-55d0dc671d54\">\n",
       "      Upload widget is only available when the cell has been executed in the\n",
       "      current browser session. Please rerun this cell to enable.\n",
       "      </output>\n",
       "      <script src=\"/nbextensions/google.colab/files.js\"></script> "
      ],
      "text/plain": [
       "<IPython.core.display.HTML object>"
      ]
     },
     "metadata": {
      "tags": []
     },
     "output_type": "display_data"
    },
    {
     "name": "stdout",
     "output_type": "stream",
     "text": [
      "Saving kaggle.json to kaggle.json\n"
     ]
    },
    {
     "data": {
      "text/plain": [
       "{'kaggle.json': b'{\"username\":\"pra133k\",\"key\":\"670030f8a7016372edcf275d6737091d\"}'}"
      ]
     },
     "execution_count": 19,
     "metadata": {
      "tags": []
     },
     "output_type": "execute_result"
    }
   ],
   "source": [
    "from google.colab import files\n",
    "files.upload()  #this will prompt you to upload the kaggle.json"
   ]
  },
  {
   "cell_type": "code",
   "execution_count": 0,
   "metadata": {
    "colab": {},
    "colab_type": "code",
    "id": "Ts8KTKSabNWb"
   },
   "outputs": [],
   "source": [
    "!pip install -q kaggle\n",
    "!mkdir -p ~/.kaggle\n",
    "!cp kaggle.json ~/.kaggle/\n",
    "!ls ~/.kaggle\n",
    "!chmod 600 /root/.kaggle/kaggle.json"
   ]
  },
  {
   "cell_type": "code",
   "execution_count": 0,
   "metadata": {
    "colab": {
     "base_uri": "https://localhost:8080/",
     "height": 168
    },
    "colab_type": "code",
    "executionInfo": {
     "elapsed": 44382,
     "status": "ok",
     "timestamp": 1565086999851,
     "user": {
      "displayName": "prateek mohan",
      "photoUrl": "https://lh3.googleusercontent.com/-5EaS3F_29qQ/AAAAAAAAAAI/AAAAAAAADZM/WqFy740lLqE/s64/photo.jpg",
      "userId": "16785344440276487370"
     },
     "user_tz": -330
    },
    "id": "ZlAhxEIRcFQk",
    "outputId": "834ee690-1af9-4143-81a9-abda665c0041"
   },
   "outputs": [
    {
     "name": "stdout",
     "output_type": "stream",
     "text": [
      "Downloading sample_submission.csv.zip to /content/gdrive/My Drive/CNNProjects/kaggle\n",
      "\r",
      "  0% 0.00/5.13k [00:00<?, ?B/s]\n",
      "100% 5.13k/5.13k [00:00<00:00, 720kB/s]\n",
      "Downloading test.zip to /content/gdrive/My Drive/CNNProjects/kaggle\n",
      "100% 86.0M/86.0M [00:01<00:00, 49.3MB/s]\n",
      "\n",
      "Downloading train.zip to /content/gdrive/My Drive/CNNProjects/kaggle\n",
      " 99% 1.59G/1.60G [00:35<00:00, 39.2MB/s]\n",
      "100% 1.60G/1.60G [00:35<00:00, 48.8MB/s]\n"
     ]
    }
   ],
   "source": [
    "!kaggle competitions download -c plant-seedlings-classification -p /content/gdrive/My\\ Drive/CNNProjects/kaggle"
   ]
  },
  {
   "cell_type": "code",
   "execution_count": 0,
   "metadata": {
    "colab": {
     "base_uri": "https://localhost:8080/",
     "height": 67
    },
    "colab_type": "code",
    "executionInfo": {
     "elapsed": 139618,
     "status": "ok",
     "timestamp": 1565317782109,
     "user": {
      "displayName": "prateek mohan",
      "photoUrl": "https://lh3.googleusercontent.com/-5EaS3F_29qQ/AAAAAAAAAAI/AAAAAAAADZM/WqFy740lLqE/s64/photo.jpg",
      "userId": "16785344440276487370"
     },
     "user_tz": -330
    },
    "id": "y24_I9jKc7bo",
    "outputId": "ee847614-0ae9-400f-f04a-3b7831ea8fbf"
   },
   "outputs": [
    {
     "name": "stdout",
     "output_type": "stream",
     "text": [
      "Archive:  sample_submission.csv.zip\n",
      "replace sample_submission.csv? [y]es, [n]o, [A]ll, [N]one, [r]ename: y\n",
      "  inflating: sample_submission.csv   \n"
     ]
    }
   ],
   "source": [
    "import os\n",
    "os.chdir('gdrive/My Drive/CNNProjects/kaggle')  #change dir\n",
    "!mkdir train  #create a directory named train/\n",
    "!mkdir test  #create a directory named test/\n",
    "!unzip -q train.zip -d train/  #unzip data in train/\n",
    "!unzip -q test.zip -d test/  #unzip data in test/\n",
    "!unzip sample_submission.csv.zip\n",
    "# !unzip train_labels.csv.zip"
   ]
  },
  {
   "cell_type": "code",
   "execution_count": 0,
   "metadata": {
    "colab": {},
    "colab_type": "code",
    "id": "DQtm_CshdceD"
   },
   "outputs": [],
   "source": [
    "!mkdir test\n",
    "!unzip -q test.zip -d test/"
   ]
  },
  {
   "cell_type": "code",
   "execution_count": 0,
   "metadata": {
    "colab": {},
    "colab_type": "code",
    "id": "jVqbpQ3uQzms"
   },
   "outputs": [],
   "source": [
    "# Import necessary libraries"
   ]
  },
  {
   "cell_type": "code",
   "execution_count": 0,
   "metadata": {
    "colab": {},
    "colab_type": "code",
    "id": "jdIe3hcyN_M7"
   },
   "outputs": [],
   "source": [
    "import tensorflow as tf\n",
    "import keras\n",
    "from keras.models import Sequential\n",
    "from keras.layers import AveragePooling2D,Conv2D,Dense,Activation,BatchNormalization,Reshape,Dropout,Flatten,MaxPooling2D\n",
    "from keras import optimizers\n",
    "from keras.optimizers import Adam,Adagrad\n",
    "from keras.callbacks import Callback,CallbackList\n",
    "from tensorflow.keras.callbacks import EarlyStopping, ModelCheckpoint\n",
    "from __future__ import absolute_import, division, print_function\n",
    "import numpy as np\n",
    "from sklearn.model_selection import train_test_split\n",
    "import os\n",
    "import glob\n",
    "from glob import glob\n",
    "from keras.preprocessing.image import ImageDataGenerator\n",
    "import matplotlib.pyplot as plt\n",
    "import cv2\n",
    "import pandas as pd\n",
    "from keras.utils import np_utils\n",
    "from keras import optimizers\n",
    "import time"
   ]
  },
  {
   "cell_type": "code",
   "execution_count": 0,
   "metadata": {
    "colab": {},
    "colab_type": "code",
    "id": "i-G3isye5cLA"
   },
   "outputs": [],
   "source": [
    "# import sklearn\n",
    "from sklearn.preprocessing import LabelEncoder\n",
    "from sklearn.model_selection import train_test_split"
   ]
  },
  {
   "cell_type": "code",
   "execution_count": 0,
   "metadata": {
    "colab": {},
    "colab_type": "code",
    "id": "DO6IfSlePzq7"
   },
   "outputs": [],
   "source": [
    "seed = 7\n",
    "np.random.seed(seed)"
   ]
  },
  {
   "cell_type": "code",
   "execution_count": 12,
   "metadata": {
    "colab": {
     "base_uri": "https://localhost:8080/",
     "height": 54
    },
    "colab_type": "code",
    "executionInfo": {
     "elapsed": 1774,
     "status": "ok",
     "timestamp": 1566105500509,
     "user": {
      "displayName": "prateek mohan",
      "photoUrl": "https://lh3.googleusercontent.com/-5EaS3F_29qQ/AAAAAAAAAAI/AAAAAAAADZM/WqFy740lLqE/s64/photo.jpg",
      "userId": "16785344440276487370"
     },
     "user_tz": -330
    },
    "id": "SMzvh1mnTDZl",
    "outputId": "ad2258b3-7814-430d-c097-ce3f6dae046d"
   },
   "outputs": [
    {
     "name": "stdout",
     "output_type": "stream",
     "text": [
      "['Common Chickweed', 'Maize', 'Common wheat', 'Scentless Mayweed', 'Loose Silky-bent', 'Fat Hen', 'Small-flowered Cranesbill', 'Cleavers', 'Black-grass', 'Sugar beet', 'Shepherds Purse', 'Charlock']\n"
     ]
    }
   ],
   "source": [
    "print(os.listdir('/content/gdrive/My Drive/CNNProjects/kaggle/train'))"
   ]
  },
  {
   "cell_type": "code",
   "execution_count": 0,
   "metadata": {
    "colab": {},
    "colab_type": "code",
    "id": "OcBqKDiuvcFx"
   },
   "outputs": [],
   "source": [
    "#Use of glob: The glob module finds all the pathnames matching a specified pattern according to the rules used by the Unix shell, although results are returned in arbitrary order"
   ]
  },
  {
   "cell_type": "code",
   "execution_count": 0,
   "metadata": {
    "colab": {},
    "colab_type": "code",
    "id": "uG0X9JgDpNy4"
   },
   "outputs": [],
   "source": [
    "path_toimages = '/content/gdrive/My Drive/CNNProjects/kaggle/train/*/*.png'\n",
    "images = glob(path_toimages)"
   ]
  },
  {
   "cell_type": "code",
   "execution_count": 0,
   "metadata": {
    "colab": {},
    "colab_type": "code",
    "id": "7ufebfnFs9wC"
   },
   "outputs": [],
   "source": [
    "trainingset = []   #this will be used to append the images (.pngs)\n",
    "traininglabels = []  # instead of assinging labels by ourselves I prefer to use label encoder then use the one hot encoding as we do in DL using to_categorical. We will choose the folders from the data frame later\n",
    "scale = 70\n",
    "\n",
    "num = len(images)\n",
    "c = 1\n",
    "# Reading images and resizing\n",
    "\n",
    "for i in images:\n",
    "  trainingset.append(cv2.resize(cv2.imread(i),(scale,scale)))\n",
    "  traininglabels.append(i.split('/'))  # Splitting for ensuring we get the classes in one column which I can use later to label encode.\n",
    "  c = c+1\n",
    "trainingset = np.asarray(trainingset)\n",
    "traininglabels = pd.DataFrame(traininglabels)"
   ]
  },
  {
   "cell_type": "code",
   "execution_count": 0,
   "metadata": {
    "colab": {},
    "colab_type": "code",
    "id": "DBxNrP59CeoM"
   },
   "outputs": [],
   "source": [
    "trainingset = trainingset/255"
   ]
  },
  {
   "cell_type": "code",
   "execution_count": 17,
   "metadata": {
    "colab": {
     "base_uri": "https://localhost:8080/",
     "height": 343
    },
    "colab_type": "code",
    "executionInfo": {
     "elapsed": 2056149,
     "status": "ok",
     "timestamp": 1566107568804,
     "user": {
      "displayName": "prateek mohan",
      "photoUrl": "https://lh3.googleusercontent.com/-5EaS3F_29qQ/AAAAAAAAAAI/AAAAAAAADZM/WqFy740lLqE/s64/photo.jpg",
      "userId": "16785344440276487370"
     },
     "user_tz": -330
    },
    "id": "f-QZWvpOq9K0",
    "outputId": "3d75a428-f9da-4a15-f6b5-368a530edd7d"
   },
   "outputs": [
    {
     "data": {
      "text/html": [
       "<div>\n",
       "<style scoped>\n",
       "    .dataframe tbody tr th:only-of-type {\n",
       "        vertical-align: middle;\n",
       "    }\n",
       "\n",
       "    .dataframe tbody tr th {\n",
       "        vertical-align: top;\n",
       "    }\n",
       "\n",
       "    .dataframe thead th {\n",
       "        text-align: right;\n",
       "    }\n",
       "</style>\n",
       "<table border=\"1\" class=\"dataframe\">\n",
       "  <thead>\n",
       "    <tr style=\"text-align: right;\">\n",
       "      <th></th>\n",
       "      <th>0</th>\n",
       "      <th>1</th>\n",
       "      <th>2</th>\n",
       "      <th>3</th>\n",
       "      <th>4</th>\n",
       "      <th>5</th>\n",
       "      <th>6</th>\n",
       "      <th>7</th>\n",
       "      <th>8</th>\n",
       "    </tr>\n",
       "  </thead>\n",
       "  <tbody>\n",
       "    <tr>\n",
       "      <th>0</th>\n",
       "      <td></td>\n",
       "      <td>content</td>\n",
       "      <td>gdrive</td>\n",
       "      <td>My Drive</td>\n",
       "      <td>CNNProjects</td>\n",
       "      <td>kaggle</td>\n",
       "      <td>train</td>\n",
       "      <td>Common Chickweed</td>\n",
       "      <td>7a597f825.png</td>\n",
       "    </tr>\n",
       "    <tr>\n",
       "      <th>1</th>\n",
       "      <td></td>\n",
       "      <td>content</td>\n",
       "      <td>gdrive</td>\n",
       "      <td>My Drive</td>\n",
       "      <td>CNNProjects</td>\n",
       "      <td>kaggle</td>\n",
       "      <td>train</td>\n",
       "      <td>Common Chickweed</td>\n",
       "      <td>62351b320.png</td>\n",
       "    </tr>\n",
       "    <tr>\n",
       "      <th>2</th>\n",
       "      <td></td>\n",
       "      <td>content</td>\n",
       "      <td>gdrive</td>\n",
       "      <td>My Drive</td>\n",
       "      <td>CNNProjects</td>\n",
       "      <td>kaggle</td>\n",
       "      <td>train</td>\n",
       "      <td>Common Chickweed</td>\n",
       "      <td>af005febb.png</td>\n",
       "    </tr>\n",
       "    <tr>\n",
       "      <th>3</th>\n",
       "      <td></td>\n",
       "      <td>content</td>\n",
       "      <td>gdrive</td>\n",
       "      <td>My Drive</td>\n",
       "      <td>CNNProjects</td>\n",
       "      <td>kaggle</td>\n",
       "      <td>train</td>\n",
       "      <td>Common Chickweed</td>\n",
       "      <td>0f872f09e.png</td>\n",
       "    </tr>\n",
       "    <tr>\n",
       "      <th>4</th>\n",
       "      <td></td>\n",
       "      <td>content</td>\n",
       "      <td>gdrive</td>\n",
       "      <td>My Drive</td>\n",
       "      <td>CNNProjects</td>\n",
       "      <td>kaggle</td>\n",
       "      <td>train</td>\n",
       "      <td>Common Chickweed</td>\n",
       "      <td>687fdd0f0.png</td>\n",
       "    </tr>\n",
       "    <tr>\n",
       "      <th>5</th>\n",
       "      <td></td>\n",
       "      <td>content</td>\n",
       "      <td>gdrive</td>\n",
       "      <td>My Drive</td>\n",
       "      <td>CNNProjects</td>\n",
       "      <td>kaggle</td>\n",
       "      <td>train</td>\n",
       "      <td>Common Chickweed</td>\n",
       "      <td>c5ddfa4a2.png</td>\n",
       "    </tr>\n",
       "    <tr>\n",
       "      <th>6</th>\n",
       "      <td></td>\n",
       "      <td>content</td>\n",
       "      <td>gdrive</td>\n",
       "      <td>My Drive</td>\n",
       "      <td>CNNProjects</td>\n",
       "      <td>kaggle</td>\n",
       "      <td>train</td>\n",
       "      <td>Common Chickweed</td>\n",
       "      <td>10c956c81.png</td>\n",
       "    </tr>\n",
       "    <tr>\n",
       "      <th>7</th>\n",
       "      <td></td>\n",
       "      <td>content</td>\n",
       "      <td>gdrive</td>\n",
       "      <td>My Drive</td>\n",
       "      <td>CNNProjects</td>\n",
       "      <td>kaggle</td>\n",
       "      <td>train</td>\n",
       "      <td>Common Chickweed</td>\n",
       "      <td>feafa22cc.png</td>\n",
       "    </tr>\n",
       "    <tr>\n",
       "      <th>8</th>\n",
       "      <td></td>\n",
       "      <td>content</td>\n",
       "      <td>gdrive</td>\n",
       "      <td>My Drive</td>\n",
       "      <td>CNNProjects</td>\n",
       "      <td>kaggle</td>\n",
       "      <td>train</td>\n",
       "      <td>Common Chickweed</td>\n",
       "      <td>19f62aae6.png</td>\n",
       "    </tr>\n",
       "    <tr>\n",
       "      <th>9</th>\n",
       "      <td></td>\n",
       "      <td>content</td>\n",
       "      <td>gdrive</td>\n",
       "      <td>My Drive</td>\n",
       "      <td>CNNProjects</td>\n",
       "      <td>kaggle</td>\n",
       "      <td>train</td>\n",
       "      <td>Common Chickweed</td>\n",
       "      <td>518787d0b.png</td>\n",
       "    </tr>\n",
       "  </tbody>\n",
       "</table>\n",
       "</div>"
      ],
      "text/plain": [
       "  0        1       2         3  ...       5      6                 7              8\n",
       "0    content  gdrive  My Drive  ...  kaggle  train  Common Chickweed  7a597f825.png\n",
       "1    content  gdrive  My Drive  ...  kaggle  train  Common Chickweed  62351b320.png\n",
       "2    content  gdrive  My Drive  ...  kaggle  train  Common Chickweed  af005febb.png\n",
       "3    content  gdrive  My Drive  ...  kaggle  train  Common Chickweed  0f872f09e.png\n",
       "4    content  gdrive  My Drive  ...  kaggle  train  Common Chickweed  687fdd0f0.png\n",
       "5    content  gdrive  My Drive  ...  kaggle  train  Common Chickweed  c5ddfa4a2.png\n",
       "6    content  gdrive  My Drive  ...  kaggle  train  Common Chickweed  10c956c81.png\n",
       "7    content  gdrive  My Drive  ...  kaggle  train  Common Chickweed  feafa22cc.png\n",
       "8    content  gdrive  My Drive  ...  kaggle  train  Common Chickweed  19f62aae6.png\n",
       "9    content  gdrive  My Drive  ...  kaggle  train  Common Chickweed  518787d0b.png\n",
       "\n",
       "[10 rows x 9 columns]"
      ]
     },
     "execution_count": 17,
     "metadata": {
      "tags": []
     },
     "output_type": "execute_result"
    }
   ],
   "source": [
    "traininglabels.head(10)"
   ]
  },
  {
   "cell_type": "code",
   "execution_count": 18,
   "metadata": {
    "colab": {
     "base_uri": "https://localhost:8080/",
     "height": 67
    },
    "colab_type": "code",
    "executionInfo": {
     "elapsed": 2055480,
     "status": "ok",
     "timestamp": 1566107568809,
     "user": {
      "displayName": "prateek mohan",
      "photoUrl": "https://lh3.googleusercontent.com/-5EaS3F_29qQ/AAAAAAAAAAI/AAAAAAAADZM/WqFy740lLqE/s64/photo.jpg",
      "userId": "16785344440276487370"
     },
     "user_tz": -330
    },
    "id": "Fe3YOLkF45fs",
    "outputId": "84a24a2b-09a4-49a0-d4a9-9baddf5e903b"
   },
   "outputs": [
    {
     "name": "stdout",
     "output_type": "stream",
     "text": [
      "Classes['Black-grass' 'Charlock' 'Cleavers' 'Common Chickweed' 'Common wheat'\n",
      " 'Fat Hen' 'Loose Silky-bent' 'Maize' 'Scentless Mayweed'\n",
      " 'Shepherds Purse' 'Small-flowered Cranesbill' 'Sugar beet']\n"
     ]
    }
   ],
   "source": [
    "# Label Encoder for the images and later turning them into categorical encoded labels\n",
    "labels = LabelEncoder() #Label Encode the folders. \n",
    "labels.fit(traininglabels[7])\n",
    "print('Classes'+str(labels.classes_))\n",
    "encodedlabels = labels.transform(traininglabels[7])"
   ]
  },
  {
   "cell_type": "code",
   "execution_count": 0,
   "metadata": {
    "colab": {},
    "colab_type": "code",
    "id": "SHckvxvo6jiG"
   },
   "outputs": [],
   "source": [
    "alllabels = np_utils.to_categorical(encodedlabels)"
   ]
  },
  {
   "cell_type": "code",
   "execution_count": 20,
   "metadata": {
    "colab": {
     "base_uri": "https://localhost:8080/",
     "height": 34
    },
    "colab_type": "code",
    "executionInfo": {
     "elapsed": 2054308,
     "status": "ok",
     "timestamp": 1566107568811,
     "user": {
      "displayName": "prateek mohan",
      "photoUrl": "https://lh3.googleusercontent.com/-5EaS3F_29qQ/AAAAAAAAAAI/AAAAAAAADZM/WqFy740lLqE/s64/photo.jpg",
      "userId": "16785344440276487370"
     },
     "user_tz": -330
    },
    "id": "-EJTb8yp-UY8",
    "outputId": "d3279185-501b-4623-8220-fd1754fcba75"
   },
   "outputs": [
    {
     "data": {
      "text/plain": [
       "array([0., 0., 0., 1., 0., 0., 0., 0., 0., 0., 0., 0.], dtype=float32)"
      ]
     },
     "execution_count": 20,
     "metadata": {
      "tags": []
     },
     "output_type": "execute_result"
    }
   ],
   "source": [
    "alllabels[0]"
   ]
  },
  {
   "cell_type": "code",
   "execution_count": 0,
   "metadata": {
    "colab": {},
    "colab_type": "code",
    "id": "piOEImf1B8Ox"
   },
   "outputs": [],
   "source": [
    "classes = alllabels.shape[1]"
   ]
  },
  {
   "cell_type": "code",
   "execution_count": 22,
   "metadata": {
    "colab": {
     "base_uri": "https://localhost:8080/",
     "height": 34
    },
    "colab_type": "code",
    "executionInfo": {
     "elapsed": 2053080,
     "status": "ok",
     "timestamp": 1566107568812,
     "user": {
      "displayName": "prateek mohan",
      "photoUrl": "https://lh3.googleusercontent.com/-5EaS3F_29qQ/AAAAAAAAAAI/AAAAAAAADZM/WqFy740lLqE/s64/photo.jpg",
      "userId": "16785344440276487370"
     },
     "user_tz": -330
    },
    "id": "BXbYEjRlFw5c",
    "outputId": "e581339e-0511-44a3-cb89-8b06a5d7d2ae"
   },
   "outputs": [
    {
     "name": "stdout",
     "output_type": "stream",
     "text": [
      "12\n"
     ]
    }
   ],
   "source": [
    "print(str(classes))\n"
   ]
  },
  {
   "cell_type": "code",
   "execution_count": 23,
   "metadata": {
    "colab": {
     "base_uri": "https://localhost:8080/",
     "height": 402
    },
    "colab_type": "code",
    "executionInfo": {
     "elapsed": 2052372,
     "status": "ok",
     "timestamp": 1566107568813,
     "user": {
      "displayName": "prateek mohan",
      "photoUrl": "https://lh3.googleusercontent.com/-5EaS3F_29qQ/AAAAAAAAAAI/AAAAAAAADZM/WqFy740lLqE/s64/photo.jpg",
      "userId": "16785344440276487370"
     },
     "user_tz": -330
    },
    "id": "0zuNP1HeFzGS",
    "outputId": "7431797e-fcbd-4e63-9291-40754102a73b"
   },
   "outputs": [
    {
     "data": {
      "text/plain": [
       "<matplotlib.axes._subplots.AxesSubplot at 0x7fa657e0e358>"
      ]
     },
     "execution_count": 23,
     "metadata": {
      "tags": []
     },
     "output_type": "execute_result"
    },
    {
     "data": {
      "image/png": "[encoded data removed]",
      "text/plain": [
       "<Figure size 432x288 with 1 Axes>"
      ]
     },
     "metadata": {
      "tags": []
     },
     "output_type": "display_data"
    }
   ],
   "source": [
    "# Exploring the Data Set\n",
    "traininglabels[7].value_counts().plot(kind='bar')\n"
   ]
  },
  {
   "cell_type": "code",
   "execution_count": 0,
   "metadata": {
    "colab": {},
    "colab_type": "code",
    "id": "jCr0T2nhGLTx"
   },
   "outputs": [],
   "source": [
    "X_train,X_test,y_train,y_test = train_test_split(trainingset,alllabels,test_size = 0.30,random_state = seed)"
   ]
  },
  {
   "cell_type": "code",
   "execution_count": 25,
   "metadata": {
    "colab": {
     "base_uri": "https://localhost:8080/",
     "height": 34
    },
    "colab_type": "code",
    "executionInfo": {
     "elapsed": 2049521,
     "status": "ok",
     "timestamp": 1566107568824,
     "user": {
      "displayName": "prateek mohan",
      "photoUrl": "https://lh3.googleusercontent.com/-5EaS3F_29qQ/AAAAAAAAAAI/AAAAAAAADZM/WqFy740lLqE/s64/photo.jpg",
      "userId": "16785344440276487370"
     },
     "user_tz": -330
    },
    "id": "xBFYVc_ZHWhm",
    "outputId": "770d3ce4-eb66-4386-ca4b-b60cbc9b6bc8"
   },
   "outputs": [
    {
     "data": {
      "text/plain": [
       "((3325, 70, 70, 3), (1425, 70, 70, 3), (3325, 12), (1425, 12))"
      ]
     },
     "execution_count": 25,
     "metadata": {
      "tags": []
     },
     "output_type": "execute_result"
    }
   ],
   "source": [
    "X_train.shape,X_test.shape,y_train.shape,y_test.shape"
   ]
  },
  {
   "cell_type": "code",
   "execution_count": 0,
   "metadata": {
    "colab": {},
    "colab_type": "code",
    "id": "WuIhcuV4AJu5"
   },
   "outputs": [],
   "source": [
    "datagen = ImageDataGenerator(rotation_range = 180,zoom_range = 0.1,width_shift_range = 0.1,height_shift_range = 0.1\n",
    "                             ,horizontal_flip = True,\n",
    "                             vertical_flip = True)\n",
    "datagen.fit(X_train)"
   ]
  },
  {
   "cell_type": "code",
   "execution_count": 27,
   "metadata": {
    "colab": {
     "base_uri": "https://localhost:8080/",
     "height": 339
    },
    "colab_type": "code",
    "executionInfo": {
     "elapsed": 2045173,
     "status": "ok",
     "timestamp": 1566107573026,
     "user": {
      "displayName": "prateek mohan",
      "photoUrl": "https://lh3.googleusercontent.com/-5EaS3F_29qQ/AAAAAAAAAAI/AAAAAAAADZM/WqFy740lLqE/s64/photo.jpg",
      "userId": "16785344440276487370"
     },
     "user_tz": -330
    },
    "id": "JbG54TApIBkC",
    "outputId": "5c776af8-e78f-4b99-d4b6-460db2891ee2"
   },
   "outputs": [
    {
     "name": "stderr",
     "output_type": "stream",
     "text": [
      "WARNING: Logging before flag parsing goes to stderr.\n",
      "W0818 05:52:50.320695 140353949022080 deprecation_wrapper.py:119] From /usr/local/lib/python3.6/dist-packages/keras/backend/tensorflow_backend.py:74: The name tf.get_default_graph is deprecated. Please use tf.compat.v1.get_default_graph instead.\n",
      "\n",
      "W0818 05:52:50.372330 140353949022080 deprecation_wrapper.py:119] From /usr/local/lib/python3.6/dist-packages/keras/backend/tensorflow_backend.py:517: The name tf.placeholder is deprecated. Please use tf.compat.v1.placeholder instead.\n",
      "\n",
      "W0818 05:52:50.379256 140353949022080 deprecation_wrapper.py:119] From /usr/local/lib/python3.6/dist-packages/keras/backend/tensorflow_backend.py:4138: The name tf.random_uniform is deprecated. Please use tf.random.uniform instead.\n",
      "\n",
      "W0818 05:52:50.427698 140353949022080 deprecation_wrapper.py:119] From /usr/local/lib/python3.6/dist-packages/keras/backend/tensorflow_backend.py:174: The name tf.get_default_session is deprecated. Please use tf.compat.v1.get_default_session instead.\n",
      "\n",
      "W0818 05:52:50.428849 140353949022080 deprecation_wrapper.py:119] From /usr/local/lib/python3.6/dist-packages/keras/backend/tensorflow_backend.py:181: The name tf.ConfigProto is deprecated. Please use tf.compat.v1.ConfigProto instead.\n",
      "\n",
      "W0818 05:52:53.120436 140353949022080 deprecation_wrapper.py:119] From /usr/local/lib/python3.6/dist-packages/keras/backend/tensorflow_backend.py:1834: The name tf.nn.fused_batch_norm is deprecated. Please use tf.compat.v1.nn.fused_batch_norm instead.\n",
      "\n",
      "W0818 05:52:53.218836 140353949022080 deprecation_wrapper.py:119] From /usr/local/lib/python3.6/dist-packages/keras/backend/tensorflow_backend.py:3976: The name tf.nn.max_pool is deprecated. Please use tf.nn.max_pool2d instead.\n",
      "\n",
      "W0818 05:52:53.312131 140353949022080 deprecation.py:506] From /usr/local/lib/python3.6/dist-packages/keras/backend/tensorflow_backend.py:3445: calling dropout (from tensorflow.python.ops.nn_ops) with keep_prob is deprecated and will be removed in a future version.\n",
      "Instructions for updating:\n",
      "Please use `rate` instead of `keep_prob`. Rate should be set to `rate = 1 - keep_prob`.\n"
     ]
    }
   ],
   "source": [
    "#model1\n",
    "model = Sequential()\n",
    "model.add(Conv2D(64,(5,5),input_shape= (70,70,3),activation='relu'))\n",
    "model.add(BatchNormalization())\n",
    "model.add(Conv2D(64,(5,5),activation= 'relu'))\n",
    "model.add(MaxPooling2D(pool_size=(2,2)))\n",
    "model.add(BatchNormalization())\n",
    "model.add(Dropout(0.10))\n",
    "\n",
    "\n",
    "model.add(Conv2D(128,(5,5),activation='relu'))\n",
    "model.add(BatchNormalization())\n",
    "model.add(Conv2D(128,(5,5),activation='relu'))\n",
    "model.add(MaxPooling2D(pool_size=(2,2)))\n",
    "model.add(BatchNormalization())\n",
    "model.add(Dropout(0.10))\n",
    "\n",
    "\n",
    "\n",
    "model.add(Conv2D(256,(5,5),activation='relu'))\n",
    "model.add(BatchNormalization())\n",
    "model.add(Conv2D(256,(5,5),activation='relu'))\n",
    "model.add(MaxPooling2D(pool_size=(2,2)))\n",
    "model.add(BatchNormalization())\n",
    "model.add(Dropout(0.10))\n",
    "\n",
    "\n",
    "\n",
    "model.add(Flatten())\n",
    "\n",
    "model.add(Dense(256,activation='relu'))\n",
    "model.add(BatchNormalization())\n",
    "model.add(Dropout(0.50))\n",
    "\n",
    "model.add(Dense(256,activation = 'relu'))\n",
    "model.add(BatchNormalization())\n",
    "model.add(Dropout(0.50))\n",
    "\n",
    "model.add(Dense(12,activation='softmax'))\n"
   ]
  },
  {
   "cell_type": "code",
   "execution_count": 0,
   "metadata": {
    "colab": {
     "base_uri": "https://localhost:8080/",
     "height": 1000
    },
    "colab_type": "code",
    "executionInfo": {
     "elapsed": 1726401,
     "status": "ok",
     "timestamp": 1566073763543,
     "user": {
      "displayName": "prateek mohan",
      "photoUrl": "https://lh3.googleusercontent.com/-5EaS3F_29qQ/AAAAAAAAAAI/AAAAAAAADZM/WqFy740lLqE/s64/photo.jpg",
      "userId": "16785344440276487370"
     },
     "user_tz": -330
    },
    "id": "e8nFu8KxNiLH",
    "outputId": "485faad1-744e-4378-9d99-903b0e11c660"
   },
   "outputs": [
    {
     "name": "stdout",
     "output_type": "stream",
     "text": [
      "_________________________________________________________________\n",
      "Layer (type)                 Output Shape              Param #   \n",
      "=================================================================\n",
      "conv2d_1 (Conv2D)            (None, 66, 66, 64)        4864      \n",
      "_________________________________________________________________\n",
      "batch_normalization_1 (Batch (None, 66, 66, 64)        256       \n",
      "_________________________________________________________________\n",
      "conv2d_2 (Conv2D)            (None, 62, 62, 64)        102464    \n",
      "_________________________________________________________________\n",
      "max_pooling2d_1 (MaxPooling2 (None, 31, 31, 64)        0         \n",
      "_________________________________________________________________\n",
      "batch_normalization_2 (Batch (None, 31, 31, 64)        256       \n",
      "_________________________________________________________________\n",
      "dropout_1 (Dropout)          (None, 31, 31, 64)        0         \n",
      "_________________________________________________________________\n",
      "conv2d_3 (Conv2D)            (None, 27, 27, 128)       204928    \n",
      "_________________________________________________________________\n",
      "batch_normalization_3 (Batch (None, 27, 27, 128)       512       \n",
      "_________________________________________________________________\n",
      "conv2d_4 (Conv2D)            (None, 23, 23, 128)       409728    \n",
      "_________________________________________________________________\n",
      "max_pooling2d_2 (MaxPooling2 (None, 11, 11, 128)       0         \n",
      "_________________________________________________________________\n",
      "batch_normalization_4 (Batch (None, 11, 11, 128)       512       \n",
      "_________________________________________________________________\n",
      "dropout_2 (Dropout)          (None, 11, 11, 128)       0         \n",
      "_________________________________________________________________\n",
      "conv2d_5 (Conv2D)            (None, 7, 7, 256)         819456    \n",
      "_________________________________________________________________\n",
      "batch_normalization_5 (Batch (None, 7, 7, 256)         1024      \n",
      "_________________________________________________________________\n",
      "conv2d_6 (Conv2D)            (None, 3, 3, 256)         1638656   \n",
      "_________________________________________________________________\n",
      "max_pooling2d_3 (MaxPooling2 (None, 1, 1, 256)         0         \n",
      "_________________________________________________________________\n",
      "batch_normalization_6 (Batch (None, 1, 1, 256)         1024      \n",
      "_________________________________________________________________\n",
      "dropout_3 (Dropout)          (None, 1, 1, 256)         0         \n",
      "_________________________________________________________________\n",
      "flatten_1 (Flatten)          (None, 256)               0         \n",
      "_________________________________________________________________\n",
      "dense_1 (Dense)              (None, 256)               65792     \n",
      "_________________________________________________________________\n",
      "batch_normalization_7 (Batch (None, 256)               1024      \n",
      "_________________________________________________________________\n",
      "dropout_4 (Dropout)          (None, 256)               0         \n",
      "_________________________________________________________________\n",
      "dense_2 (Dense)              (None, 256)               65792     \n",
      "_________________________________________________________________\n",
      "batch_normalization_8 (Batch (None, 256)               1024      \n",
      "_________________________________________________________________\n",
      "dropout_5 (Dropout)          (None, 256)               0         \n",
      "_________________________________________________________________\n",
      "dense_3 (Dense)              (None, 12)                3084      \n",
      "=================================================================\n",
      "Total params: 3,320,396\n",
      "Trainable params: 3,317,580\n",
      "Non-trainable params: 2,816\n",
      "_________________________________________________________________\n"
     ]
    }
   ],
   "source": [
    "model.summary()"
   ]
  },
  {
   "cell_type": "code",
   "execution_count": 28,
   "metadata": {
    "colab": {
     "base_uri": "https://localhost:8080/",
     "height": 70
    },
    "colab_type": "code",
    "executionInfo": {
     "elapsed": 1516,
     "status": "ok",
     "timestamp": 1566107574559,
     "user": {
      "displayName": "prateek mohan",
      "photoUrl": "https://lh3.googleusercontent.com/-5EaS3F_29qQ/AAAAAAAAAAI/AAAAAAAADZM/WqFy740lLqE/s64/photo.jpg",
      "userId": "16785344440276487370"
     },
     "user_tz": -330
    },
    "id": "OxRZAWtMLN6l",
    "outputId": "50f3081c-0b7d-4602-c245-fa1508d75560"
   },
   "outputs": [
    {
     "name": "stderr",
     "output_type": "stream",
     "text": [
      "W0818 05:52:55.431952 140353949022080 deprecation_wrapper.py:119] From /usr/local/lib/python3.6/dist-packages/keras/optimizers.py:790: The name tf.train.Optimizer is deprecated. Please use tf.compat.v1.train.Optimizer instead.\n",
      "\n"
     ]
    }
   ],
   "source": [
    "optimizers = Adam(lr = 0.0001)\n",
    "model.compile(optimizer = optimizers,loss ='categorical_crossentropy',metrics = ['accuracy'])"
   ]
  },
  {
   "cell_type": "code",
   "execution_count": 0,
   "metadata": {
    "colab": {},
    "colab_type": "code",
    "id": "HhLWRbyxMKDV"
   },
   "outputs": [],
   "source": [
    "stop = EarlyStopping(monitor = 'val_loss',patience = 10, verbose = 1, mode = 'auto')"
   ]
  },
  {
   "cell_type": "code",
   "execution_count": 0,
   "metadata": {
    "colab": {},
    "colab_type": "code",
    "id": "tRhPRPPdzmXo"
   },
   "outputs": [],
   "source": [
    "# filepath='/content/gdrive/My Drive/CNNProjects/kaggle/weights_plant_seedlings.best.hdf5'\n",
    "# checkpoint = ModelCheckpoint(filepath,monitor='val_acc',verbose = 1, save_best_only=True,mode='max')\n"
   ]
  },
  {
   "cell_type": "code",
   "execution_count": 30,
   "metadata": {
    "colab": {
     "base_uri": "https://localhost:8080/",
     "height": 759
    },
    "colab_type": "code",
    "executionInfo": {
     "elapsed": 6111921,
     "status": "ok",
     "timestamp": 1566113684981,
     "user": {
      "displayName": "prateek mohan",
      "photoUrl": "https://lh3.googleusercontent.com/-5EaS3F_29qQ/AAAAAAAAAAI/AAAAAAAADZM/WqFy740lLqE/s64/photo.jpg",
      "userId": "16785344440276487370"
     },
     "user_tz": -330
    },
    "id": "RLMChuXE7vw5",
    "outputId": "df59b0b6-6978-486b-d443-176ace3d2b48"
   },
   "outputs": [
    {
     "name": "stderr",
     "output_type": "stream",
     "text": [
      "W0818 05:52:56.071374 140353949022080 deprecation.py:323] From /usr/local/lib/python3.6/dist-packages/tensorflow/python/ops/math_grad.py:1250: add_dispatch_support.<locals>.wrapper (from tensorflow.python.ops.array_ops) is deprecated and will be removed in a future version.\n",
      "Instructions for updating:\n",
      "Use tf.where in 2.0, which has the same broadcast rule as np.where\n"
     ]
    },
    {
     "name": "stdout",
     "output_type": "stream",
     "text": [
      "Epoch 1/50\n",
      "3325/3325 [==============================] - 327s 98ms/step - loss: 1.2672 - acc: 0.6104 - val_loss: 0.6031 - val_acc: 0.7825\n",
      "Epoch 2/50\n",
      "3325/3325 [==============================] - 321s 97ms/step - loss: 0.5143 - acc: 0.8248 - val_loss: 0.4964 - val_acc: 0.8042\n",
      "Epoch 3/50\n",
      "3325/3325 [==============================] - 322s 97ms/step - loss: 0.3255 - acc: 0.8859 - val_loss: 0.5647 - val_acc: 0.8007\n",
      "Epoch 4/50\n",
      "3325/3325 [==============================] - 321s 96ms/step - loss: 0.2311 - acc: 0.9169 - val_loss: 0.2752 - val_acc: 0.8898\n",
      "Epoch 5/50\n",
      "3325/3325 [==============================] - 322s 97ms/step - loss: 0.1813 - acc: 0.9343 - val_loss: 0.2462 - val_acc: 0.8982\n",
      "Epoch 6/50\n",
      "3325/3325 [==============================] - 322s 97ms/step - loss: 0.1446 - acc: 0.9469 - val_loss: 0.2707 - val_acc: 0.9053\n",
      "Epoch 7/50\n",
      "3325/3325 [==============================] - 322s 97ms/step - loss: 0.1208 - acc: 0.9568 - val_loss: 0.4610 - val_acc: 0.8744\n",
      "Epoch 8/50\n",
      "3325/3325 [==============================] - 321s 97ms/step - loss: 0.1019 - acc: 0.9631 - val_loss: 0.2465 - val_acc: 0.9123\n",
      "Epoch 9/50\n",
      "3325/3325 [==============================] - 321s 97ms/step - loss: 0.0894 - acc: 0.9683 - val_loss: 0.2093 - val_acc: 0.9277\n",
      "Epoch 10/50\n",
      "3325/3325 [==============================] - 321s 96ms/step - loss: 0.0754 - acc: 0.9736 - val_loss: 0.3003 - val_acc: 0.9095\n",
      "Epoch 11/50\n",
      "3325/3325 [==============================] - 321s 97ms/step - loss: 0.0650 - acc: 0.9772 - val_loss: 0.4312 - val_acc: 0.8849\n",
      "Epoch 12/50\n",
      "3325/3325 [==============================] - 321s 96ms/step - loss: 0.0576 - acc: 0.9799 - val_loss: 0.3480 - val_acc: 0.9193\n",
      "Epoch 13/50\n",
      "3325/3325 [==============================] - 321s 97ms/step - loss: 0.0520 - acc: 0.9822 - val_loss: 0.2552 - val_acc: 0.9270\n",
      "Epoch 14/50\n",
      "3325/3325 [==============================] - 320s 96ms/step - loss: 0.0473 - acc: 0.9843 - val_loss: 0.2748 - val_acc: 0.9312\n",
      "Epoch 15/50\n",
      "3325/3325 [==============================] - 321s 97ms/step - loss: 0.0424 - acc: 0.9856 - val_loss: 0.2869 - val_acc: 0.9284\n",
      "Epoch 16/50\n",
      "3325/3325 [==============================] - 321s 96ms/step - loss: 0.0385 - acc: 0.9869 - val_loss: 0.2895 - val_acc: 0.9228\n",
      "Epoch 17/50\n",
      "3325/3325 [==============================] - 321s 97ms/step - loss: 0.0372 - acc: 0.9875 - val_loss: 0.3081 - val_acc: 0.9263\n",
      "Epoch 18/50\n",
      "3325/3325 [==============================] - 321s 96ms/step - loss: 0.0334 - acc: 0.9892 - val_loss: 0.3233 - val_acc: 0.9179\n",
      "Epoch 19/50\n",
      "3325/3325 [==============================] - 322s 97ms/step - loss: 0.0310 - acc: 0.9896 - val_loss: 0.4251 - val_acc: 0.9018\n",
      "Epoch 00019: early stopping\n",
      "Train Time: 9824.861818 \n"
     ]
    }
   ],
   "source": [
    "start = time.clock() \n",
    "model.fit_generator(datagen.flow(X_train, y_train,batch_size=32), validation_data=(X_test,y_test),epochs = 50,steps_per_epoch = X_train.shape[0],callbacks=[stop])\n",
    "end = time.clock()\n",
    "\n",
    "print(\"Train Time: {} \".format(end-start)) "
   ]
  },
  {
   "cell_type": "code",
   "execution_count": 31,
   "metadata": {
    "colab": {
     "base_uri": "https://localhost:8080/",
     "height": 50
    },
    "colab_type": "code",
    "executionInfo": {
     "elapsed": 5993757,
     "status": "ok",
     "timestamp": 1566113685947,
     "user": {
      "displayName": "prateek mohan",
      "photoUrl": "https://lh3.googleusercontent.com/-5EaS3F_29qQ/AAAAAAAAAAI/AAAAAAAADZM/WqFy740lLqE/s64/photo.jpg",
      "userId": "16785344440276487370"
     },
     "user_tz": -330
    },
    "id": "F0JB2jpf-kvN",
    "outputId": "b67f4225-7a5a-489b-d9c7-adfe85caa19d"
   },
   "outputs": [
    {
     "name": "stdout",
     "output_type": "stream",
     "text": [
      "1425/1425 [==============================] - 1s 890us/step\n"
     ]
    },
    {
     "data": {
      "text/plain": [
       "[0.42512507635250424, 0.901754386048568]"
      ]
     },
     "execution_count": 31,
     "metadata": {
      "tags": []
     },
     "output_type": "execute_result"
    }
   ],
   "source": [
    "model.evaluate(X_test,y_test)"
   ]
  },
  {
   "cell_type": "code",
   "execution_count": 0,
   "metadata": {
    "colab": {},
    "colab_type": "code",
    "id": "cIL8_iVxGqKy"
   },
   "outputs": [],
   "source": [
    "# TestSet Images\n",
    "path_toimages_test = '/content/gdrive/My Drive/CNNProjects/kaggle/test/test/*.png'\n",
    "images_test = glob(path_toimages_test)"
   ]
  },
  {
   "cell_type": "code",
   "execution_count": 0,
   "metadata": {
    "colab": {},
    "colab_type": "code",
    "id": "ni1y8BMMGqUu"
   },
   "outputs": [],
   "source": [
    "testset = []\n",
    "test_submissions = []\n",
    "scale = 70\n",
    "c = 1\n",
    "# Reading images and resizing\n",
    "\n",
    "for i in images_test:\n",
    "  test_submissions.append(i.split('/')[-1])\n",
    "  testset.append(cv2.resize(cv2.imread(i),(scale,scale)))\n",
    "  c = c+1\n",
    "testset = np.asarray(testset)"
   ]
  },
  {
   "cell_type": "code",
   "execution_count": 0,
   "metadata": {
    "colab": {},
    "colab_type": "code",
    "id": "l3ION8AAJ-6S"
   },
   "outputs": [],
   "source": [
    "testset = testset/255"
   ]
  },
  {
   "cell_type": "code",
   "execution_count": 0,
   "metadata": {
    "colab": {},
    "colab_type": "code",
    "id": "C-WWIJRYLP_l"
   },
   "outputs": [],
   "source": [
    "predictions = model.predict(testset)\n",
    "preds_sub = np.argmax(predictions,axis = 1)\n"
   ]
  },
  {
   "cell_type": "code",
   "execution_count": 36,
   "metadata": {
    "colab": {
     "base_uri": "https://localhost:8080/",
     "height": 235
    },
    "colab_type": "code",
    "executionInfo": {
     "elapsed": 6285816,
     "status": "ok",
     "timestamp": 1566113987694,
     "user": {
      "displayName": "prateek mohan",
      "photoUrl": "https://lh3.googleusercontent.com/-5EaS3F_29qQ/AAAAAAAAAAI/AAAAAAAADZM/WqFy740lLqE/s64/photo.jpg",
      "userId": "16785344440276487370"
     },
     "user_tz": -330
    },
    "id": "RfhzpbJOdCnL",
    "outputId": "fb013426-1487-4b1e-adeb-6159f17bd797"
   },
   "outputs": [
    {
     "data": {
      "text/plain": [
       "array([[2.4478528e-09, 6.1297079e-10, 5.5218483e-09, ..., 5.4382077e-10,\n",
       "        6.5823215e-08, 6.8189756e-09],\n",
       "       [1.3108739e-05, 2.3382665e-04, 2.3960053e-04, ..., 1.1575881e-05,\n",
       "        9.9648225e-01, 4.7643757e-06],\n",
       "       [4.2177165e-01, 8.6221562e-06, 6.1673159e-06, ..., 1.9119554e-05,\n",
       "        5.5062235e-05, 4.8450100e-05],\n",
       "       ...,\n",
       "       [4.8447102e-08, 9.9999726e-01, 5.4227371e-07, ..., 1.3776539e-08,\n",
       "        2.1570118e-07, 8.6143544e-08],\n",
       "       [1.6144299e-04, 5.5701131e-01, 9.5456962e-05, ..., 4.3882248e-01,\n",
       "        8.9308502e-05, 2.6862426e-03],\n",
       "       [3.3530089e-06, 2.7735086e-06, 8.3075975e-06, ..., 5.6960666e-06,\n",
       "        1.0821843e-06, 1.4902803e-04]], dtype=float32)"
      ]
     },
     "execution_count": 36,
     "metadata": {
      "tags": []
     },
     "output_type": "execute_result"
    }
   ],
   "source": [
    "predictions"
   ]
  },
  {
   "cell_type": "code",
   "execution_count": 0,
   "metadata": {
    "colab": {},
    "colab_type": "code",
    "id": "NmjS7Nvi4Fd2"
   },
   "outputs": [],
   "source": [
    "predStr = labels.classes_[preds_sub]\n",
    "result = {'file': test_submissions,'species':predStr}\n",
    "df = pd.DataFrame(result)\n",
    "df.to_csv('/content/gdrive/My Drive/CNNProjects/kaggle/Predictions_Seeds.csv',index = False)\n"
   ]
  },
  {
   "cell_type": "markdown",
   "metadata": {
    "colab_type": "text",
    "id": "SNyfsQSwQwQ5"
   },
   "source": [
    "***LeaderBoard Score on Kaggle-->91%***"
   ]
  },
  {
   "cell_type": "markdown",
   "metadata": {
    "colab": {},
    "colab_type": "code",
    "id": "S6ZjmxCi4-It"
   },
   "source": [
    "### Insights:\n",
    "- Used the VGG16 multiple layers to train but stopped at 256 Filters since post that it was running into '-' shapes.\n",
    "- Implement Transfer Learning using vgg16 to verify if I can improve better then 91%. \n",
    "- Below code only provided 71%. Could not re run it again before submitting as Colab ot disconnected.\n",
    "- Also Implemented ResNet which only provided 20% accuracy."
   ]
  },
  {
   "cell_type": "code",
   "execution_count": 0,
   "metadata": {
    "colab": {},
    "colab_type": "code",
    "id": "Cx602IT44-RY"
   },
   "outputs": [],
   "source": [
    "from keras.applications.vgg16 import VGG16, preprocess_input\n"
   ]
  },
  {
   "cell_type": "code",
   "execution_count": 5,
   "metadata": {
    "colab": {
     "base_uri": "https://localhost:8080/",
     "height": 289
    },
    "colab_type": "code",
    "executionInfo": {
     "elapsed": 5870,
     "status": "ok",
     "timestamp": 1566116669307,
     "user": {
      "displayName": "prateek mohan",
      "photoUrl": "https://lh3.googleusercontent.com/-5EaS3F_29qQ/AAAAAAAAAAI/AAAAAAAADZM/WqFy740lLqE/s64/photo.jpg",
      "userId": "16785344440276487370"
     },
     "user_tz": -330
    },
    "id": "Bd3GRd-9axfj",
    "outputId": "73f5858a-95f7-4e58-db7b-7d904c324a8d"
   },
   "outputs": [
    {
     "name": "stderr",
     "output_type": "stream",
     "text": [
      "WARNING: Logging before flag parsing goes to stderr.\n",
      "W0818 08:24:25.740622 139865532934016 deprecation_wrapper.py:119] From /usr/local/lib/python3.6/dist-packages/keras/backend/tensorflow_backend.py:74: The name tf.get_default_graph is deprecated. Please use tf.compat.v1.get_default_graph instead.\n",
      "\n",
      "W0818 08:24:25.792572 139865532934016 deprecation_wrapper.py:119] From /usr/local/lib/python3.6/dist-packages/keras/backend/tensorflow_backend.py:517: The name tf.placeholder is deprecated. Please use tf.compat.v1.placeholder instead.\n",
      "\n",
      "W0818 08:24:25.801233 139865532934016 deprecation_wrapper.py:119] From /usr/local/lib/python3.6/dist-packages/keras/backend/tensorflow_backend.py:4138: The name tf.random_uniform is deprecated. Please use tf.random.uniform instead.\n",
      "\n",
      "W0818 08:24:25.847720 139865532934016 deprecation_wrapper.py:119] From /usr/local/lib/python3.6/dist-packages/keras/backend/tensorflow_backend.py:3976: The name tf.nn.max_pool is deprecated. Please use tf.nn.max_pool2d instead.\n",
      "\n"
     ]
    },
    {
     "name": "stdout",
     "output_type": "stream",
     "text": [
      "Downloading data from https://github.com/fchollet/deep-learning-models/releases/download/v0.1/vgg16_weights_tf_dim_ordering_tf_kernels_notop.h5\n",
      "58892288/58889256 [==============================] - 1s 0us/step\n"
     ]
    },
    {
     "name": "stderr",
     "output_type": "stream",
     "text": [
      "W0818 08:24:27.274347 139865532934016 deprecation_wrapper.py:119] From /usr/local/lib/python3.6/dist-packages/keras/backend/tensorflow_backend.py:174: The name tf.get_default_session is deprecated. Please use tf.compat.v1.get_default_session instead.\n",
      "\n",
      "W0818 08:24:27.275868 139865532934016 deprecation_wrapper.py:119] From /usr/local/lib/python3.6/dist-packages/keras/backend/tensorflow_backend.py:181: The name tf.ConfigProto is deprecated. Please use tf.compat.v1.ConfigProto instead.\n",
      "\n"
     ]
    }
   ],
   "source": [
    "num_classes = 12\n",
    "base_models = VGG16(weights='imagenet',include_top = False,input_shape= (70,70,3))"
   ]
  },
  {
   "cell_type": "code",
   "execution_count": 8,
   "metadata": {
    "colab": {
     "base_uri": "https://localhost:8080/",
     "height": 87
    },
    "colab_type": "code",
    "executionInfo": {
     "elapsed": 964,
     "status": "ok",
     "timestamp": 1566116729952,
     "user": {
      "displayName": "prateek mohan",
      "photoUrl": "https://lh3.googleusercontent.com/-5EaS3F_29qQ/AAAAAAAAAAI/AAAAAAAADZM/WqFy740lLqE/s64/photo.jpg",
      "userId": "16785344440276487370"
     },
     "user_tz": -330
    },
    "id": "QjiZMXYdblW9",
    "outputId": "701b60b1-f621-4fcc-c841-301974eb72cc"
   },
   "outputs": [
    {
     "name": "stderr",
     "output_type": "stream",
     "text": [
      "W0818 08:25:31.443216 139865532934016 deprecation.py:506] From /usr/local/lib/python3.6/dist-packages/keras/backend/tensorflow_backend.py:3445: calling dropout (from tensorflow.python.ops.nn_ops) with keep_prob is deprecated and will be removed in a future version.\n",
      "Instructions for updating:\n",
      "Please use `rate` instead of `keep_prob`. Rate should be set to `rate = 1 - keep_prob`.\n"
     ]
    }
   ],
   "source": [
    "# Finetune VGG16\n",
    "\n",
    "from keras.layers import Dense, Activation, Flatten, Dropout\n",
    "from keras.models import Sequential, Model\n",
    "\n",
    "def build_finetune_model(base_models, dropout, fc_layers, num_classes):\n",
    "    for layer in base_models.layers:\n",
    "        layer.trainable = False\n",
    "\n",
    "    x = base_models.output\n",
    "    x = Flatten()(x)\n",
    "    for fc in fc_layers:\n",
    "        # New FC layer, random init\n",
    "        x = Dense(fc, activation='relu')(x) \n",
    "        x = BatchNormalization()(x)\n",
    "        x = Dropout(dropout)(x)\n",
    "\n",
    "    # New softmax layer\n",
    "    predictions = Dense(num_classes, activation='softmax')(x) \n",
    "    \n",
    "    finetune_model = Model(inputs=base_models.input, outputs=predictions)\n",
    "\n",
    "    return finetune_model\n",
    "\n",
    "FC_LAYERS = [256, 256]\n",
    "dropout = 0.5\n",
    "\n",
    "finetune_model = build_finetune_model(base_models, \n",
    "                                      dropout=dropout, \n",
    "                                      fc_layers=FC_LAYERS, \n",
    "                                      num_classes=12)"
   ]
  },
  {
   "cell_type": "code",
   "execution_count": 9,
   "metadata": {
    "colab": {
     "base_uri": "https://localhost:8080/",
     "height": 70
    },
    "colab_type": "code",
    "executionInfo": {
     "elapsed": 947,
     "status": "ok",
     "timestamp": 1566116782697,
     "user": {
      "displayName": "prateek mohan",
      "photoUrl": "https://lh3.googleusercontent.com/-5EaS3F_29qQ/AAAAAAAAAAI/AAAAAAAADZM/WqFy740lLqE/s64/photo.jpg",
      "userId": "16785344440276487370"
     },
     "user_tz": -330
    },
    "id": "QeTGSWD4cCPs",
    "outputId": "4578b230-ba31-4fcf-9bdd-0945ed270b6c"
   },
   "outputs": [
    {
     "name": "stderr",
     "output_type": "stream",
     "text": [
      "W0818 08:26:24.099623 139865532934016 deprecation_wrapper.py:119] From /usr/local/lib/python3.6/dist-packages/keras/optimizers.py:790: The name tf.train.Optimizer is deprecated. Please use tf.compat.v1.train.Optimizer instead.\n",
      "\n"
     ]
    }
   ],
   "source": [
    "optimizers = Adam(lr = 0.0001)\n",
    "finetune_model.compile(optimizer = optimizers,loss ='categorical_crossentropy',metrics = ['accuracy'])\n",
    "stop = EarlyStopping(monitor = 'loss',patience = 10, verbose = 1, mode = 'auto')\n",
    "# filepath='/content/gdrive/My Drive/CNNProjects/kaggle/weights.best.hdf5'\n",
    "# checkpoint = ModelCheckpoint(filepath,monitor='val_acc',verbose = 1, save_best_only=True,mode='max')"
   ]
  },
  {
   "cell_type": "code",
   "execution_count": 10,
   "metadata": {
    "colab": {
     "base_uri": "https://localhost:8080/",
     "height": 178
    },
    "colab_type": "code",
    "executionInfo": {
     "elapsed": 958,
     "status": "error",
     "timestamp": 1566116787505,
     "user": {
      "displayName": "prateek mohan",
      "photoUrl": "https://lh3.googleusercontent.com/-5EaS3F_29qQ/AAAAAAAAAAI/AAAAAAAADZM/WqFy740lLqE/s64/photo.jpg",
      "userId": "16785344440276487370"
     },
     "user_tz": -330
    },
    "id": "8sE1stcPcenu",
    "outputId": "acef4249-e0b2-4704-ab6d-f73c9d0136a1"
   },
   "outputs": [
    {
     "ename": "NameError",
     "evalue": "ignored",
     "output_type": "error",
     "traceback": [
      "\u001b[0;31m---------------------------------------------------------------------------\u001b[0m",
      "\u001b[0;31mNameError\u001b[0m                                 Traceback (most recent call last)",
      "\u001b[0;32m<ipython-input-10-f6da10cf54cd>\u001b[0m in \u001b[0;36m<module>\u001b[0;34m()\u001b[0m\n\u001b[0;32m----> 1\u001b[0;31m finetune_model.fit_generator(datagen.flow(X_train, y_train,\n\u001b[0m\u001b[1;32m      2\u001b[0m                         batch_size=32), validation_data=(X_test,y_test),epochs = 50,steps_per_epoch = X_train.shape[0],callbacks=[stop])\n",
      "\u001b[0;31mNameError\u001b[0m: name 'datagen' is not defined"
     ]
    }
   ],
   "source": [
    "finetune_model.fit_generator(datagen.flow(X_train, y_train,\n",
    "                        batch_size=32), validation_data=(X_test,y_test),epochs = 50,steps_per_epoch = X_train.shape[0],callbacks=[stop])"
   ]
  },
  {
   "cell_type": "code",
   "execution_count": 0,
   "metadata": {
    "colab": {},
    "colab_type": "code",
    "id": "hcj3fzXkcytc"
   },
   "outputs": [],
   "source": [
    "finetune_model.evaluate(X_test,y_test)"
   ]
  },
  {
   "cell_type": "markdown",
   "metadata": {
    "colab_type": "text",
    "id": "6YOoK3NYq9ns"
   },
   "source": [
    "Implemented VGGNet16 trained network using transfer learning and the concept by using VGG16 on all layers. Recieve the better accuracy 90% by training on all layers.\n",
    "\n",
    "Transfer Learning using vgg16 had 71 % accuracy"
   ]
  },
  {
   "cell_type": "code",
   "execution_count": 0,
   "metadata": {
    "colab": {},
    "colab_type": "code",
    "id": "QEZ1jzwf6Rvm"
   },
   "outputs": [],
   "source": []
  }
 ],
 "metadata": {
  "accelerator": "GPU",
  "colab": {
   "collapsed_sections": [],
   "name": "PlantseedImageClassify.ipynb",
   "provenance": [],
   "version": "0.3.2"
  },
  "kernelspec": {
   "display_name": "Python 3",
   "language": "python",
   "name": "python3"
  },
  "language_info": {
   "codemirror_mode": {
    "name": "ipython",
    "version": 3
   },
   "file_extension": ".py",
   "mimetype": "text/x-python",
   "name": "python",
   "nbconvert_exporter": "python",
   "pygments_lexer": "ipython3",
   "version": "3.7.3"
  }
 },
 "nbformat": 4,
 "nbformat_minor": 1
}
